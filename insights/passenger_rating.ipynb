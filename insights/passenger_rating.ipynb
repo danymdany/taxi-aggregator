{
 "cells": [
  {
   "cell_type": "code",
   "execution_count": 1,
   "id": "a5315aed",
   "metadata": {},
   "outputs": [],
   "source": [
    "import numpy  as np\n",
    "import pandas as pd\n",
    "import seaborn as sns\n",
    "import matplotlib.pyplot as plt\n",
    "import matplotlib.image as mpimg\n",
    "#sns.set_theme(style=\"whitegrid\")\n",
    "\n",
    "%matplotlib inline\n",
    "%reload_ext autoreload\n",
    "%autoreload 2"
   ]
  },
  {
   "cell_type": "code",
   "execution_count": 2,
   "id": "72943dc2",
   "metadata": {},
   "outputs": [],
   "source": [
    "from database import Database\n",
    "from datetime import datetime, timedelta\n",
    "db = Database()\n",
    "\n",
    "start_date = '2021-09-01'\n",
    "end_date = '2021-09-10'\n",
    "from_date_str = start_date + \"T00:00:00+00:00\"\n",
    "to_date_str = end_date + \"T23:59:59+00:00\"\n",
    "from_date = datetime.strptime(from_date_str, '%Y-%m-%dT%H:%M:%S%z')\n",
    "to_date = datetime.strptime(to_date_str, '%Y-%m-%dT%H:%M:%S%z')\n",
    "\n",
    "data = db.get_all_data('Dagg_passenger_rating', {'date': {'$gte': from_date, '$lt': to_date}},\n",
    "                       {'_id': 0})\n",
    "entries = list(data)\n",
    "df = pd.DataFrame(entries)"
   ]
  },
  {
   "cell_type": "code",
   "execution_count": 3,
   "id": "4c43d4a4",
   "metadata": {},
   "outputs": [
    {
     "data": {
      "text/html": [
       "<div>\n",
       "<style scoped>\n",
       "    .dataframe tbody tr th:only-of-type {\n",
       "        vertical-align: middle;\n",
       "    }\n",
       "\n",
       "    .dataframe tbody tr th {\n",
       "        vertical-align: top;\n",
       "    }\n",
       "\n",
       "    .dataframe thead th {\n",
       "        text-align: right;\n",
       "    }\n",
       "</style>\n",
       "<table border=\"1\" class=\"dataframe\">\n",
       "  <thead>\n",
       "    <tr style=\"text-align: right;\">\n",
       "      <th></th>\n",
       "      <th>date</th>\n",
       "      <th>avg</th>\n",
       "    </tr>\n",
       "  </thead>\n",
       "  <tbody>\n",
       "    <tr>\n",
       "      <th>0</th>\n",
       "      <td>2021-09-01</td>\n",
       "      <td>3.066667</td>\n",
       "    </tr>\n",
       "    <tr>\n",
       "      <th>1</th>\n",
       "      <td>2021-09-02</td>\n",
       "      <td>3.163580</td>\n",
       "    </tr>\n",
       "    <tr>\n",
       "      <th>2</th>\n",
       "      <td>2021-09-03</td>\n",
       "      <td>3.208333</td>\n",
       "    </tr>\n",
       "    <tr>\n",
       "      <th>3</th>\n",
       "      <td>2021-09-04</td>\n",
       "      <td>3.531481</td>\n",
       "    </tr>\n",
       "    <tr>\n",
       "      <th>4</th>\n",
       "      <td>2021-09-05</td>\n",
       "      <td>2.851852</td>\n",
       "    </tr>\n",
       "    <tr>\n",
       "      <th>5</th>\n",
       "      <td>2021-09-06</td>\n",
       "      <td>2.981481</td>\n",
       "    </tr>\n",
       "    <tr>\n",
       "      <th>6</th>\n",
       "      <td>2021-09-07</td>\n",
       "      <td>2.811404</td>\n",
       "    </tr>\n",
       "    <tr>\n",
       "      <th>7</th>\n",
       "      <td>2021-09-08</td>\n",
       "      <td>3.111111</td>\n",
       "    </tr>\n",
       "    <tr>\n",
       "      <th>8</th>\n",
       "      <td>2021-09-09</td>\n",
       "      <td>3.238426</td>\n",
       "    </tr>\n",
       "    <tr>\n",
       "      <th>9</th>\n",
       "      <td>2021-09-10</td>\n",
       "      <td>3.191667</td>\n",
       "    </tr>\n",
       "  </tbody>\n",
       "</table>\n",
       "</div>"
      ],
      "text/plain": [
       "         date       avg\n",
       "0  2021-09-01  3.066667\n",
       "1  2021-09-02  3.163580\n",
       "2  2021-09-03  3.208333\n",
       "3  2021-09-04  3.531481\n",
       "4  2021-09-05  2.851852\n",
       "5  2021-09-06  2.981481\n",
       "6  2021-09-07  2.811404\n",
       "7  2021-09-08  3.111111\n",
       "8  2021-09-09  3.238426\n",
       "9  2021-09-10  3.191667"
      ]
     },
     "execution_count": 3,
     "metadata": {},
     "output_type": "execute_result"
    }
   ],
   "source": [
    "#df.head()\n",
    "#df.info()\n",
    "#df.describe()\n",
    "\n",
    "df['date']=df['date'].dt.date\n",
    "gp = df.groupby('date').mean()\n",
    "gp.reset_index()"
   ]
  },
  {
   "cell_type": "code",
   "execution_count": 20,
   "id": "a20e294b",
   "metadata": {},
   "outputs": [
    {
     "data": {
      "text/plain": [
       "<AxesSubplot:title={'center':'Daily Service Rating Graph'}, xlabel='date', ylabel='ratings'>"
      ]
     },
     "execution_count": 20,
     "metadata": {},
     "output_type": "execute_result"
    },
    {
     "data": {
      "image/png": "[encoded data removed]",
      "text/plain": [
       "<Figure size 1152x648 with 1 Axes>"
      ]
     },
     "metadata": {
      "needs_background": "light"
     },
     "output_type": "display_data"
    }
   ],
   "source": [
    "fig, axes = plt.subplots(1,1,figsize=(16,9))\n",
    "#sns.barplot(x = gp.index, y = gp['avg'].values)\n",
    "\n",
    "axes.set_ylabel('ratings')\n",
    "axes.set_ylim([0,5])\n",
    "axes.set_xlabel('date')\n",
    "axes.set_title('Daily Service Rating Graph')\n",
    "\n",
    "gp.plot(ax=axes,style='r--',lw=5)\n",
    "#df2.plot(ax=axes[0,1])\n",
    "#axes.set_title(\"bar\")\n",
    "#axes.bar(gp['date'],gp['avg'], align='center', alpha=0.5)\n",
    "#sns.relplot(kind='line', data=df.reset_index(), row='identifier', x='index', y='value')"
   ]
  },
  {
   "cell_type": "code",
   "execution_count": null,
   "id": "2926ae05",
   "metadata": {},
   "outputs": [],
   "source": []
  },
  {
   "cell_type": "code",
   "execution_count": null,
   "id": "14acc479",
   "metadata": {},
   "outputs": [],
   "source": []
  }
 ],
 "metadata": {
  "kernelspec": {
   "display_name": "Python 3",
   "language": "python",
   "name": "python3"
  },
  "language_info": {
   "codemirror_mode": {
    "name": "ipython",
    "version": 3
   },
   "file_extension": ".py",
   "mimetype": "text/x-python",
   "name": "python",
   "nbconvert_exporter": "python",
   "pygments_lexer": "ipython3",
   "version": "3.8.8"
  }
 },
 "nbformat": 4,
 "nbformat_minor": 5
}
